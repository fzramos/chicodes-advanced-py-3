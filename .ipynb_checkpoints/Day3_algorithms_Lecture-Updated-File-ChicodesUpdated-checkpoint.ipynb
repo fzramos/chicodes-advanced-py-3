{
 "cells": [
  {
   "cell_type": "markdown",
   "metadata": {},
   "source": [
    "# Algorithms, Binary Search & Linked Lists"
   ]
  },
  {
   "cell_type": "markdown",
   "metadata": {},
   "source": [
    "## Tasks Today:\n",
    " \n",
    "1) <b>In-Place Algorithms</b> <br>\n",
    " &nbsp;&nbsp;&nbsp;&nbsp; a) Syntax <br>\n",
    " &nbsp;&nbsp;&nbsp;&nbsp; a) Out of Place Algorithm <br>\n",
    " &nbsp;&nbsp;&nbsp;&nbsp; b) In-Class Exercise #1 <br>\n",
    "2) <b>Two Pointers</b> <br>\n",
    "3) <b>Linked Lists</b> <br>\n",
    "4) <b>Merge Sort</b> <br>\n",
    " &nbsp;&nbsp;&nbsp;&nbsp; a) Video on Algorithms <br>\n",
    " &nbsp;&nbsp;&nbsp;&nbsp; b) How it Works <br>\n",
    "5) <b>Exercises</b> <br>\n",
    " &nbsp;&nbsp;&nbsp;&nbsp; a) Exercise #1 - Reverse a List in Place Using an In-Place Algorithm <br>\n",
    " &nbsp;&nbsp;&nbsp;&nbsp; b) Exercise #2 - Find Distinct Words <br>\n",
    " &nbsp;&nbsp;&nbsp;&nbsp; c) Exercise #3 - Write a program to implement a Linear Search Algorithm. <br>"
   ]
  },
  {
   "cell_type": "markdown",
   "metadata": {},
   "source": [
    "## In-Place Algorithms"
   ]
  },
  {
   "cell_type": "markdown",
   "metadata": {},
   "source": [
    "#### Syntax"
   ]
  },
  {
   "cell_type": "code",
   "execution_count": 5,
   "metadata": {},
   "outputs": [
    {
     "name": "stdout",
     "output_type": "stream",
     "text": [
      "Before swap: [20, 4, 10]\n",
      "AFTER swap: [20, 10, 4]\n"
     ]
    }
   ],
   "source": [
    "# var[i],var[i + 1] = var[i + 1], var[i]\n",
    "# Sometimes known as a swap algorithm\n",
    "def swap(alist, x, y, z):\n",
    "    alist[x], alist[y], alist[z]= alist[z], alist[y], alist[x]\n",
    "    return alist\n",
    "\n",
    "my_list = [20, 4, 10]\n",
    "print(f\"Before swap: {my_list}\")\n",
    "\n",
    "#swap(my_list, 0, 1, 2)\n",
    "swap(my_list, 2, 0, 1)\n",
    "\n",
    "print(f\"AFTER swap: {my_list}\")\n",
    "\n",
    "# Rearrange list so you don't have to recopy whole list"
   ]
  },
  {
   "cell_type": "markdown",
   "metadata": {},
   "source": [
    "#### Out of Place Algorithm"
   ]
  },
  {
   "cell_type": "code",
   "execution_count": 6,
   "metadata": {},
   "outputs": [
    {
     "data": {
      "text/plain": [
       "[4, 10, 20]"
      ]
     },
     "execution_count": 6,
     "metadata": {},
     "output_type": "execute_result"
    }
   ],
   "source": [
    "# not swapping, but rather reversing completely\n",
    "# BUT also copies to another place in memory\n",
    "my_list[::-1]\n"
   ]
  },
  {
   "cell_type": "markdown",
   "metadata": {},
   "source": [
    "#### In-Class Exercise #1 <br>\n",
    "<p>Write a function that takes in four arguments (list, index1, index2, index3), and swaps those three positions in the list passed in.</p>"
   ]
  },
  {
   "cell_type": "code",
   "execution_count": 7,
   "metadata": {},
   "outputs": [
    {
     "name": "stdout",
     "output_type": "stream",
     "text": [
      "[6, 4, 3, 10, 4, 2, 8]\n"
     ]
    }
   ],
   "source": [
    "l_1 = [10, 4, 3, 8, 4, 2, 6]\n",
    "\n",
    "def swapping3(alist, index1, index2, index3):\n",
    "    alist[index1], alist[index2], alist[index3] = alist[index3], alist[index1], alist[index2]\n",
    "\n",
    "swapping3(l_1, 0, 3, -1)\n",
    "print(l_1)"
   ]
  },
  {
   "cell_type": "markdown",
   "metadata": {},
   "source": [
    "## Two Pointers"
   ]
  },
  {
   "cell_type": "markdown",
   "metadata": {},
   "source": [
    "#### Syntax"
   ]
  },
  {
   "cell_type": "code",
   "execution_count": 8,
   "metadata": {},
   "outputs": [
    {
     "name": "stdout",
     "output_type": "stream",
     "text": [
      "[1, 2, 3, 12, 9, 8, 4, 11, 22]\n",
      "[22, 11, 4, 8, 9, 12, 3, 2, 1]\n"
     ]
    }
   ],
   "source": [
    "# alist[left], alist[right] = alist[right],alist[left]\n",
    "#use two pointers to swap, can use a while loop in most cases\n",
    "def twoPointers(alist):\n",
    "    #Creating pointers for the list below:\n",
    "    left = 0\n",
    "    right = len(alist) - 1 # end of list\n",
    "    while left <= right:\n",
    "        alist[left], alist[right] = alist[right], alist[left]\n",
    "        left += 1\n",
    "        right -= 1\n",
    "    # return alist\n",
    "\n",
    "my_list2 = [1,2,3,12,9,8,4,11,22]\n",
    "print(my_list2)\n",
    "twoPointers(my_list2)\n",
    "print(my_list2)\n"
   ]
  },
  {
   "cell_type": "markdown",
   "metadata": {},
   "source": [
    "#### Video of Algorithms <br>\n",
    "<p>Watch the video about algorithms.</p>\n",
    "\n",
    "https://www.youtube.com/watch?v=Q9HjeFD62Uk\n",
    "\n",
    "https://www.youtube.com/watch?v=kPRA0W1kECg\n",
    "\n",
    "https://www.youtube.com/watch?v=ZZuD6iUe3Pc"
   ]
  },
  {
   "cell_type": "markdown",
   "metadata": {},
   "source": [
    "# Sorting Algorithms"
   ]
  },
  {
   "cell_type": "markdown",
   "metadata": {},
   "source": [
    "#### Bubble Sort\n",
    "\n",
    "Worst Case: O(n^2) Time - O(1) Space"
   ]
  },
  {
   "cell_type": "code",
   "execution_count": 21,
   "metadata": {},
   "outputs": [
    {
     "name": "stdout",
     "output_type": "stream",
     "text": [
      "[10, 1, 3, 0, 2, 1000, 30]\n",
      "[0, 1, 2, 3, 10, 30, 1000]\n",
      "[4997, 9403, 5780, 1337, 91, 1096, 5845, 1677, 375, 8854, 5960, 8294, 6378, 6305, 4953]\n",
      "[91, 375, 1096, 1337, 1677, 4953, 4997, 5780, 5845, 5960, 6305, 6378, 8294, 8854, 9403]\n",
      "\n",
      "\n",
      "[43, 18, 3, 26, 27, 45, 21, 31, 41, 36, 13, 12, 19, 23, 2]\n",
      "[2, 3, 12, 13, 18, 19, 21, 23, 26, 27, 31, 36, 41, 43, 45]\n"
     ]
    }
   ],
   "source": [
    "# Best Case: O(n) - Linear\n",
    "# My attempt!\n",
    "import random # for testing\n",
    "def swap(alist, index1, index2):\n",
    "    alist[index1], alist[index2] = alist[index2], alist[index1]\n",
    "    \n",
    "def bubble_pass(alist):\n",
    "    no_switch = True\n",
    "    for i in range(len(alist) - 1):\n",
    "        if alist[i] > alist[i + 1]:\n",
    "            swap(alist, i, i+1)\n",
    "            no_switch = False\n",
    "    return no_switch\n",
    "            \n",
    "    \n",
    "    \n",
    "def bubble_sort(alist):\n",
    "    isSorted = False\n",
    "    while not isSorted:\n",
    "        isSorted = bubble_pass(alist)\n",
    "    \n",
    "a = [10, 1, 3, 0, 2, 1000, 30]\n",
    "print(a)\n",
    "bubble_sort(a)\n",
    "print(a)\n",
    "\n",
    "randlist = random.sample(range(0, 10000), 15)\n",
    "print(randlist)\n",
    "bubble_sort(randlist)\n",
    "print(randlist)\n",
    "\n",
    "##################\n",
    "print('\\n')\n",
    "#Joel's demonstration\n",
    "def swap(i, j, array):\n",
    "    array[i], array[j] = array[j], array[i]\n",
    "\n",
    "def bubbleSort(array):\n",
    "    isSorted = False\n",
    "    while not isSorted:\n",
    "        isSorted = True\n",
    "        for num in range(len(array) - 1):\n",
    "            if array[num] > array[num + 1]:\n",
    "                swap(num, num + 1, array)\n",
    "                isSorted = False\n",
    "    return array\n",
    "\n",
    "randlist = random.sample(range(0, 50), 15)\n",
    "print(randlist)\n",
    "bubbleSort(randlist)\n",
    "print(randlist)"
   ]
  },
  {
   "cell_type": "markdown",
   "metadata": {},
   "source": [
    "##### Insertion Sort\n",
    "\n",
    "Worst Case: O(n^2) time - O(1)space"
   ]
  },
  {
   "cell_type": "code",
   "execution_count": 36,
   "metadata": {},
   "outputs": [
    {
     "name": "stdout",
     "output_type": "stream",
     "text": [
      "[22, 55, 88, 44, 1, 100, 34, 66]\n",
      "[1, 22, 34, 44, 55, 66, 88, 100]\n"
     ]
    }
   ],
   "source": [
    "# My attempt - Failed\n",
    "\"\"\"\n",
    "def swap(i, j, array):\n",
    "    array[i], array[j] = array[j], array[i]\n",
    "\n",
    "def insert_pass(array, curr_index = 1, orig_index = 1):\n",
    "    if orig_index > len(array):\n",
    "        return\n",
    "    if curr_index <= 1:\n",
    "        insert_pass(array, orig_index + 1, orig_index + 1)\n",
    "    elif array[curr_index] < array[curr_index - 1]:\n",
    "        swap(curr_index, curr_index, array)\n",
    "        insert_pass(array, curr_index - 1, orig_index)\n",
    "    else:\n",
    "        insert_pass(array, orig_index + 1, orig_index + 1)\n",
    "\n",
    "def insert_sort(array):\n",
    "    isSorted = False\n",
    "# numbers = [22, 55, 88, 44, 1, 100, 34, 66]\n",
    "numbers = [2, 1]\n",
    "insert_pass(numbers)\n",
    "print(numbers)\n",
    "\"\"\"\n",
    "# What I learned for Joel's, you don't need to pass so much info between functions\n",
    "# Problem I have\n",
    "# if you are passing the same infor over and over, there MUST be a better way\n",
    "# or maybe functions shouldn't be seperated\n",
    "def swap(i, j, array):\n",
    "    array[i], array[j] = array[j], array[i]\n",
    "\n",
    "def insertionSort(array):\n",
    "    for i in range(1, len(array)):\n",
    "        # starts at 1 because index 0 has nothing to compare to the left of it\n",
    "        # this loop allows us to carry the current index of the position of the insertion sort\n",
    "        # for the pointer to go back to after sorted\n",
    "        j = i # pointer to valuebeing inserted\n",
    "        while j > 0 and array[j] < array[j - 1]: # so while pointer isn't at at first index\n",
    "        # or pointed to value is less than value to the left of it\n",
    "            swap(j, j - 1, array)\n",
    "            j -= 1\n",
    "a = [22, 55, 88, 44, 1, 100, 34, 66]\n",
    "print(a)\n",
    "insertionSort(a)\n",
    "print(a)\n",
    "        "
   ]
  },
  {
   "cell_type": "markdown",
   "metadata": {},
   "source": [
    "## Merge Sort"
   ]
  },
  {
   "cell_type": "markdown",
   "metadata": {},
   "source": [
    "#### How it Works"
   ]
  },
  {
   "cell_type": "code",
   "execution_count": 41,
   "metadata": {},
   "outputs": [
    {
     "name": "stdout",
     "output_type": "stream",
     "text": [
      "Splitting... [6, 12, 14, 8, 10]\n",
      "Splitting... [6, 12]\n",
      "Splitting... [6]\n",
      "Merging:  [6]\n",
      "Splitting... [12]\n",
      "Merging:  [12]\n",
      "Merging:  [6, 12]\n",
      "Splitting... [14, 8, 10]\n",
      "Splitting... [14]\n",
      "Merging:  [14]\n",
      "Splitting... [8, 10]\n",
      "Splitting... [8]\n",
      "Merging:  [8]\n",
      "Splitting... [10]\n",
      "Merging:  [10]\n",
      "Merging:  [8, 10]\n",
      "Merging:  [8, 10, 14]\n",
      "Merging:  [6, 8, 10, 12, 14]\n"
     ]
    }
   ],
   "source": [
    "# Step 1: Split everything into it's own group\n",
    "# Step 2: From left to right merge two groups together\n",
    "# Step 3: While merging, place each item in the correct position within the merged group\n",
    "# Step 4: Continue Steps 3-4 until one group is left\n",
    "\n",
    "from random import randint\n",
    "# used to generate a random list of 5 numbers from 0 to 20\n",
    "nums = [randint(0,20) for i in range(5)]\n",
    "\n",
    "# write merge sort below\n",
    "\n",
    "# my initial Totally FAILED attempt\n",
    "# def swap(i, j, array):\n",
    "#     array[i], array[j] = array[j], array[i]\n",
    "    \n",
    "# def splitter(left, right):\n",
    "#     length = right - left\n",
    "#     if length <= 1:\n",
    "#         return start, end\n",
    "#     else:\n",
    "#         left1 = left\n",
    "#         right1 = left + length//2 + 1\n",
    "#         spliter(left1, right1)\n",
    "#         left2 = right1 + 1\n",
    "#         right2 = right\n",
    "\n",
    "# def mergeSort(array):\n",
    "#     if len(array) > 1:\n",
    "#         index1, index2 = splitter(0, len(array) - 1)\n",
    "#         if \n",
    "# What I learned: recursion idea was right but I should have\n",
    "# know that faster algo's usually come at the cost of larger\n",
    "# memory consumption. Also dont go overboard with # of functions\n",
    "# Sometime a loop can do better what a repetitively used function\n",
    "# can do\n",
    "\n",
    "\n",
    "# Key note, this method done not call for swapping\n",
    "def mergeSort(alist):\n",
    "    print(\"Splitting...\", alist)\n",
    "    \n",
    "    # Step 1: Divide the array into equal parts (as much as possible)\n",
    "    if len(alist) > 1: # keeps spliting until only have single list elements\n",
    "        mid = len(alist) // 2\n",
    "        lefthalf = alist[:mid]\n",
    "        righthalf = alist[mid:]\n",
    "        \n",
    "        \n",
    "        # recursively call mergeSort to perform splits if needed\n",
    "        # then merge once splits are done\n",
    "        mergeSort(lefthalf) \n",
    "        mergeSort(righthalf)\n",
    "        \n",
    "        # index pointers for our list\n",
    "        i = 0 # pointer for left half\n",
    "        j = 0 # pointer for right half\n",
    "        k = 0 # used for overall array (key: relative to the halves)\n",
    "        # so \"overall\" array may just be array of size 2\n",
    "        # since this is a recursive function\n",
    "        \n",
    "        # Step 2: Compare the lefthalf and righthalf\n",
    "        while i < len(lefthalf) and j < len(righthalf):\n",
    "            if lefthalf[i] < righthalf[j]:\n",
    "                alist[k] = lefthalf[i]\n",
    "                i = i + 1\n",
    "            else:\n",
    "                alist[k] = righthalf[j]\n",
    "                j = j + 1\n",
    "            k = k + 1\n",
    "        # we do the next 2 loops because if one half is empty, upper while\n",
    "        # loop will stop. We then need to add remainers of other sorted\n",
    "        # half to the overall array\n",
    "        # Step 3: While merging place items in correct position\n",
    "        # started in upper while loop(sort of done in upper while )\n",
    "        while i < len(lefthalf):\n",
    "            alist[k] = lefthalf[i]\n",
    "            i = i + 1\n",
    "            k = k + 1\n",
    "        while j < len(righthalf):\n",
    "            alist[k] = righthalf[j]\n",
    "            j += 1\n",
    "            k += 1\n",
    "    print(\"Merging: \", alist)\n",
    "    #return alist\n",
    "    \n",
    "    \n",
    "mergeSort(nums)"
   ]
  },
  {
   "cell_type": "markdown",
   "metadata": {},
   "source": [
    "# Binary Search\n",
    "\n",
    "The Binary Search algorithm works by finding the number in the middle of a given array and comparing it to the target. Given that the array is sorted\n",
    "\n",
    "* The worst case run time for this algorithm is `O(log(n))`"
   ]
  },
  {
   "cell_type": "code",
   "execution_count": 70,
   "metadata": {},
   "outputs": [
    {
     "name": "stdout",
     "output_type": "stream",
     "text": [
      "[0, 1, 2, 3, 5]\n",
      "The index is...3\n",
      "The index is...6\n"
     ]
    }
   ],
   "source": [
    "import random\n",
    "values = random.sample(range(0, 6), 5)\n",
    "values.sort()\n",
    "\"\"\"  \n",
    "# def binarySearch(array, target):\n",
    "#     if len(array) == 1:\n",
    "#         if array[0] == target:\n",
    "#             return True\n",
    "#     else:\n",
    "#         middle = len(array) // 2\n",
    "#         lefthalf = array[:middle]\n",
    "#         righthalf= array[middle:]\n",
    "        \n",
    "def binarySearch2(array, target):\n",
    "    if len(array) == 1:\n",
    "        if array[0] == target:\n",
    "            return True\n",
    "        return False\n",
    "    else:\n",
    "        middle = len(array) // 2\n",
    "        if middle == target:\n",
    "            return True\n",
    "        else:\n",
    "            lefthalf = array[:middle]\n",
    "            righthalf= array[middle:]\n",
    "\n",
    "a = [1, 2, 3]\n",
    "print(a)\n",
    "print(binarySearch2(a, 3))\n",
    "print(a)\n",
    "\n",
    "baby.sort()\n",
    "print(baby)\n",
    "print(binarySearch2(baby, 5))\n",
    "print(baby)\n",
    "    \n",
    "def binarySearch(array, target, left, right):\n",
    "    left = 0\n",
    "    right = len(array)\n",
    "    middle = len(array) // 2   \n",
    "    while left < len(array):\n",
    "        if array[middle] == target:\n",
    "            return middle\n",
    "        elif array[middle] > target:\n",
    "            right = middle\n",
    "\"\"\"         \n",
    "            \n",
    "#####\n",
    "# Joel's examples\n",
    "# Less == Left\n",
    "# Greater == Right\n",
    "def binarySearchHelperFunction(array, target, left, right):\n",
    "    while left <= right:\n",
    "        middle = (left + right) // 2\n",
    "        potentialMatch = array[middle]\n",
    "        if target == potentialMatch:\n",
    "            return f\"The index is...{middle}\"\n",
    "        elif target < potentialMatch:\n",
    "            right = middle - 1\n",
    "        else:\n",
    "            left = middle + 1\n",
    "    return -1\n",
    "\n",
    "def binarySearch(array, target):\n",
    "    return binarySearchHelperFunction(array, target, 0, len(array) - 1)\n",
    "\n",
    "print(values)\n",
    "print(binarySearch(values, 3))\n",
    "print(binarySearch([1,2,3,4,4,10, 90, 199, 244], 90))\n",
    "\n",
    "# Rememeber, only works on sorted lists\n",
    "        "
   ]
  },
  {
   "cell_type": "markdown",
   "metadata": {},
   "source": [
    "# Exercises"
   ]
  },
  {
   "cell_type": "markdown",
   "metadata": {},
   "source": [
    "### Exercise #1 <br>\n",
    "<p>Reverse the list below in-place using an in-place algorithm.<br>For extra credit: Reverse the strings at the same time.</p>"
   ]
  },
  {
   "cell_type": "code",
   "execution_count": 15,
   "metadata": {},
   "outputs": [
    {
     "name": "stdout",
     "output_type": "stream",
     "text": [
      "Original list: ['this', 'is', 'a', 'sentence', '.']\n",
      "Reversed list: ['.', 'ecnetnes', 'a', 'si', 'siht']\n"
     ]
    }
   ],
   "source": [
    "words = ['this' , 'is', 'a', 'sentence', '.']\n",
    "\n",
    "def switch(arr, j, i = 0):\n",
    "    arr[i], arr[j] = arr[j], arr[i]\n",
    "    return arr\n",
    "    \n",
    "def reverseList(arr):\n",
    "    left = 0\n",
    "    right = len(arr)  - 1\n",
    "    while left < right:\n",
    "        switch(arr, left, right)\n",
    "        left += 1\n",
    "        right -= 1\n",
    "    return arr\n",
    "\n",
    "def reverseWords(arr):\n",
    "    for i in range(len(arr)):\n",
    "        temp = reverseList(list(arr[i]))\n",
    "        arr[i] = ''.join(temp)\n",
    "\n",
    "def reverseAll(arr):\n",
    "    reverseList(arr)\n",
    "    reverseWords(arr)\n",
    "    \n",
    "\n",
    "print(f'Original list: {words}')\n",
    "reverseAll(words)\n",
    "print(f'Reversed list: {words}')"
   ]
  },
  {
   "cell_type": "markdown",
   "metadata": {},
   "source": [
    "### Exercise #2 <br>\n",
    "<p>Create a function that counts how many distinct words are in the string below, then outputs a dictionary with the words as the key and the value as the amount of times that word appears in the string.<br>Should output:<br>{'a': 5,<br>\n",
    " 'abstract': 1,<br>\n",
    " 'an': 3,<br>\n",
    " 'array': 2, ... etc...</p>"
   ]
  },
  {
   "cell_type": "code",
   "execution_count": 22,
   "metadata": {},
   "outputs": [
    {
     "name": "stdout",
     "output_type": "stream",
     "text": [
      "Original text:\n",
      "In computing, a hash table hash map is a data structure which implements an associative array abstract data type, a structure that can map keys to values. A hash table uses a hash function to compute an index into an array of buckets or slots from which the desired value can be found\n",
      "\n",
      "Word Count Dictionary:\n",
      "{type: 1,\n",
      "hash: 4,\n",
      "is: 1,\n",
      "of: 1,\n",
      "abstract: 1,\n",
      "keys: 1,\n",
      "function: 1,\n",
      "computing: 1,\n",
      "value: 1,\n",
      "into: 1,\n",
      "array: 2,\n",
      "desired: 1,\n",
      "slots: 1,\n",
      "uses: 1,\n",
      "values: 1,\n",
      "found: 1,\n",
      "buckets: 1,\n",
      "from: 1,\n",
      "to: 2,\n",
      "can: 2,\n",
      "map: 2,\n",
      "structure: 2,\n",
      "which: 2,\n",
      "or: 1,\n",
      "the: 1,\n",
      "table: 2,\n",
      "in: 1,\n",
      "compute: 1,\n",
      "be: 1,\n",
      "a: 5,\n",
      "an: 3,\n",
      "associative: 1,\n",
      "data: 2,\n",
      "implements: 1,\n",
      "that: 1,\n",
      "index: 1,\n",
      "}\n"
     ]
    }
   ],
   "source": [
    "a_text = 'In computing, a hash table hash map is a data structure which implements an associative array abstract data type, a structure that can map keys to values. A hash table uses a hash function to compute an index into an array of buckets or slots from which the desired value can be found'\n",
    "import re\n",
    "def wordCounter(sentence):\n",
    "    # Preprocessing string into list\n",
    "    sent = re.sub(r'[,.-]', '', sentence).lower()\n",
    "    sent_list = sent.split()\n",
    "    sent_set = set(sent_list)\n",
    "    \n",
    "    # creating the dict\n",
    "    word_dict = {word: sent_list.count(word) for word in sent_set}\n",
    "\n",
    "    return word_dict\n",
    "\n",
    "def counterFormatter(string):\n",
    "    count_dict = wordCounter(string)\n",
    "    print('{', end = '')\n",
    "    for key,value in count_dict.items():\n",
    "        print(f'{key}: {value},')\n",
    "    print('}')\n",
    "                             \n",
    "print(f'Original text:\\n{a_text}')\n",
    "print()\n",
    "print('Word Count Dictionary:')\n",
    "counterFormatter(a_text)"
   ]
  },
  {
   "cell_type": "markdown",
   "metadata": {},
   "source": [
    "## Exercise #3\n",
    "\n",
    "Write a program to implement a Linear Search Algorithm. Also in a comment, write the Time Complexity of the following algorithm.\n",
    "\n",
    "#### Hint: Linear Searching will require searching a list for a given number. "
   ]
  },
  {
   "cell_type": "code",
   "execution_count": 29,
   "metadata": {},
   "outputs": [
    {
     "name": "stdout",
     "output_type": "stream",
     "text": [
      "List: [10, 23, 45, 70, 11, 15]\n",
      "70 is at the index number 3.\n"
     ]
    }
   ],
   "source": [
    "nums_list = [10,23,45,70,11,15]\n",
    "target = 70\n",
    "\n",
    "# If number is not present return -1\n",
    "def linSearch(arr, goal):\n",
    "    for i in range(len(arr)):\n",
    "        if arr[i] == goal:\n",
    "            return i\n",
    "    return -1\n",
    "\n",
    "print(f'List: {nums_list}')\n",
    "print(f\"{target} is at the index number {linSearch(nums_list, target)}.\")\n",
    "# The Time Complexity of the Linear Search Algorith is O(n) \n",
    "# because the worst case is the number being at the end of the list of \n",
    "# size n. "
   ]
  }
 ],
 "metadata": {
  "kernelspec": {
   "display_name": "Python 3",
   "language": "python",
   "name": "python3"
  },
  "language_info": {
   "codemirror_mode": {
    "name": "ipython",
    "version": 3
   },
   "file_extension": ".py",
   "mimetype": "text/x-python",
   "name": "python",
   "nbconvert_exporter": "python",
   "pygments_lexer": "ipython3",
   "version": "3.7.6"
  }
 },
 "nbformat": 4,
 "nbformat_minor": 2
}
